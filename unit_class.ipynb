{
 "cells": [
  {
   "cell_type": "markdown",
   "id": "b4fb4dcb",
   "metadata": {},
   "source": [
    "## 2. 클래스"
   ]
  },
  {
   "cell_type": "markdown",
   "id": "24b19a9d",
   "metadata": {},
   "source": [
    "1. TestClass2를 만들고, name, email로 인스턴스 속성을 만들자."
   ]
  },
  {
   "cell_type": "code",
   "execution_count": 6,
   "id": "bca128d8",
   "metadata": {},
   "outputs": [
    {
     "name": "stdout",
     "output_type": "stream",
     "text": [
      "이름:이강산\n",
      "이름:resthope0205@gmil.com\n"
     ]
    }
   ],
   "source": [
    "class TestClass2 :\n",
    "    def __init__(self, name, email) :\n",
    "        self.name = name\n",
    "        self.email = email\n",
    "        \n",
    "obj1 = TestClass2('이강산', 'resthope0205@gmil.com')  \n",
    "\n",
    "print('이름:%s' % obj1.name)\n",
    "print('이름:%s' % obj1.email)"
   ]
  },
  {
   "cell_type": "markdown",
   "id": "1a929dcd",
   "metadata": {},
   "source": [
    "2. Member class를 만들어 보자."
   ]
  },
  {
   "cell_type": "code",
   "execution_count": 7,
   "id": "939d79d4",
   "metadata": {},
   "outputs": [
    {
     "name": "stdout",
     "output_type": "stream",
     "text": [
      "이름:서동현\n",
      "전화번호:010-1111-4444\n",
      "주소:인천광역시\n"
     ]
    }
   ],
   "source": [
    "class Member :\n",
    "    def __init__(self, name, phone, address) :\n",
    "        self.name = name\n",
    "        self.phone = phone\n",
    "        self.address = address\n",
    "        \n",
    "obj1 = Member('서동현', '010-1111-4444', '인천광역시')        \n",
    "print('이름:%s' % obj1.name)\n",
    "print('전화번호:%s' % obj1.phone)\n",
    "print('주소:%s' % obj1.address)"
   ]
  },
  {
   "cell_type": "markdown",
   "id": "6bdf6205",
   "metadata": {},
   "source": [
    "3. dict = {'name':'홍길동', 'phone':'010-1234-5678', 'address':'성남시'}를\n",
    "<br/> class Memer의 생성자에 전달해서 만들자."
   ]
  },
  {
   "cell_type": "code",
   "execution_count": 10,
   "id": "1a9d37d7",
   "metadata": {},
   "outputs": [
    {
     "name": "stdout",
     "output_type": "stream",
     "text": [
      "이름:김영철\n",
      "전화번호:010-4444-1111\n",
      "주소:서울\n"
     ]
    }
   ],
   "source": [
    "class Member :\n",
    "    def __init__(self, info) :\n",
    "        self.name = info['name']\n",
    "        self.phone = info['phone']\n",
    "        self.address = info['address']\n",
    "\n",
    "dict = {'name':'김영철', 'phone':'010-4444-1111', 'address':'서울'}\n",
    "obj1 = Member(dict)        \n",
    "print('이름:%s' % obj1.name)\n",
    "print('전화번호:%s' % obj1.phone)\n",
    "print('주소:%s' % obj1.address)"
   ]
  },
  {
   "cell_type": "markdown",
   "id": "0c3fa385",
   "metadata": {},
   "source": [
    "4. 반지름 정보를 갖고, 원의 면적을 계산하는 메서드를 갖는 Circle 클래스를 만들고,\n",
    "<br/> 생성한 객체의 원의 면적을 출력하게 하자."
   ]
  },
  {
   "cell_type": "code",
   "execution_count": 19,
   "id": "6295c5f9",
   "metadata": {},
   "outputs": [
    {
     "name": "stdout",
     "output_type": "stream",
     "text": [
      "원의 면적: 78.50\n"
     ]
    }
   ],
   "source": [
    "class Circle:\n",
    " \n",
    "    def __init__(self, r):\n",
    "        self.__r = r\n",
    " \n",
    "    @property\n",
    "    def r(self):\n",
    "        return self.__r\n",
    " \n",
    "    def area(self):\n",
    "        return 3.14 * self.r**2\n",
    " \n",
    " \n",
    "s1 = Circle(5)\n",
    "print(\"원의 면적: {:0.2f}\".format(s1.area()))"
   ]
  },
  {
   "cell_type": "markdown",
   "id": "56755ab2",
   "metadata": {},
   "source": [
    "5. 국 영 수 점수를 받아서 합계를 구하는 코드를 만들자.\n",
    "<br/> 학생 클래스의 객체 생성시 국, 영, 수 점수를 저장, 총점을 구하는 메서드를 만들자.\n",
    "- 프로퍼티를 알면 쉽게 작성할 수 있다.\n",
    "<br/> https://dojang.io/mod/page/view.php?id=2476"
   ]
  },
  {
   "cell_type": "code",
   "execution_count": 15,
   "id": "1e32b57b",
   "metadata": {},
   "outputs": [
    {
     "name": "stdout",
     "output_type": "stream",
     "text": [
      "90, 100, 80\n",
      "국어, 영어, 수학의 총점은 270점 입니다.\n"
     ]
    }
   ],
   "source": [
    "class Student:\n",
    "    def __init__(self, kor, mat, eng):\n",
    "        self.__kor = kor\n",
    "        self.__mat = mat\n",
    "        self.__eng = eng\n",
    " \n",
    "    @property\n",
    "    def kor(self):\n",
    "        return self.__kor\n",
    " \n",
    "    @property\n",
    "    def mat(self):\n",
    "        return self.__mat\n",
    " \n",
    "    @property\n",
    "    def eng(self):\n",
    "        return self.__eng\n",
    " \n",
    "    def get_total(self):\n",
    "        return self.__kor + self.__mat + self.__eng\n",
    " \n",
    " \n",
    "t_str = input()\n",
    "t_str = t_str.split(\", \")\n",
    "t_str = list(map(int, t_str))\n",
    "student = Student(t_str[0], t_str[1], t_str[2])\n",
    "print(\"국어, 영어, 수학의 총점은 {0}점 입니다.\".format(student.get_total()))"
   ]
  }
 ],
 "metadata": {
  "kernelspec": {
   "display_name": "Python 3 (ipykernel)",
   "language": "python",
   "name": "python3"
  },
  "language_info": {
   "codemirror_mode": {
    "name": "ipython",
    "version": 3
   },
   "file_extension": ".py",
   "mimetype": "text/x-python",
   "name": "python",
   "nbconvert_exporter": "python",
   "pygments_lexer": "ipython3",
   "version": "3.9.7"
  }
 },
 "nbformat": 4,
 "nbformat_minor": 5
}
